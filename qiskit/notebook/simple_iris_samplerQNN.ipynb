{
 "cells": [
  {
   "cell_type": "code",
   "execution_count": 131,
   "id": "25361127-056f-414d-9c58-dc3e4dcf87a7",
   "metadata": {},
   "outputs": [],
   "source": [
    "# resetting the entire session\n",
    "%reset -f  \n",
    "# Iris data-set\n",
    "from sklearn.datasets import load_iris\n",
    "\n",
    "# Load Iris dataset\n",
    "iris = load_iris()\n",
    "X, y = iris.data, iris.target"
   ]
  },
  {
   "cell_type": "code",
   "execution_count": 132,
   "id": "aa0da77a-23b2-49d1-b744-269ca87bd3a9",
   "metadata": {},
   "outputs": [],
   "source": [
    "# activate credencial, one time, if needed\n",
    "#!/dataVault/activate_IBMProvider.py "
   ]
  },
  {
   "cell_type": "code",
   "execution_count": 133,
   "id": "71f35ce4-97e4-420e-afb2-818389e57e82",
   "metadata": {},
   "outputs": [
    {
     "data": {
      "text/plain": [
       "((120, 4), (120,))"
      ]
     },
     "execution_count": 133,
     "metadata": {},
     "output_type": "execute_result"
    }
   ],
   "source": [
    "from sklearn.model_selection import train_test_split\n",
    "from sklearn.preprocessing import MinMaxScaler\n",
    "\n",
    "# Normalize data\n",
    "scaler = MinMaxScaler(feature_range=(-1, 1))\n",
    "X = scaler.fit_transform(X)\n",
    "\n",
    "# Split into training and test sets\n",
    "X_train, X_test, y_train, y_test = train_test_split(X, y, test_size=0.2, random_state=42)\n",
    "\n",
    "X_train.shape, y_train.shape"
   ]
  },
  {
   "cell_type": "markdown",
   "id": "75d059d7-cd06-4128-b564-eaa3c7d4c663",
   "metadata": {},
   "source": [
    "### Quantum Machine Learning Model\n",
    "we’ll train a variational quantum classifier (VQC), available in Qiskit Machine Learning \n",
    " Two of its central elements are the feature map and ansatz."
   ]
  },
  {
   "cell_type": "code",
   "execution_count": 134,
   "id": "3db1023f-ea1d-497e-b5ab-519cddc257e8",
   "metadata": {},
   "outputs": [
    {
     "data": {
      "text/html": [
       "<pre style=\"word-wrap: normal;white-space: pre;background: #fff0;line-height: 1.1;font-family: &quot;Courier New&quot;,Courier,monospace\">     ┌───┐┌─────────────┐                                                                                                                                                                                                                            \n",
       "q_0: ┤ H ├┤ P(2.0*x[0]) ├──■────────────────────────────────────■────■────────────────────────────────────■─────────■─────────────────────────────────────────■──────────────────────────────────────────────────────────────────────────────────────\n",
       "     ├───┤├─────────────┤┌─┴─┐┌──────────────────────────────┐┌─┴─┐  │                                    │         │                                         │                                                                                      \n",
       "q_1: ┤ H ├┤ P(2.0*x[1]) ├┤ X ├┤ P(2.0*(π - x[0])*(π - x[1])) ├┤ X ├──┼────────────────────────────────────┼────■────┼────────────────────────────────────■────┼────■────────────────────────────────────■────────────────────────────────────────────\n",
       "     ├───┤├─────────────┤└───┘└──────────────────────────────┘└───┘┌─┴─┐┌──────────────────────────────┐┌─┴─┐┌─┴─┐  │  ┌──────────────────────────────┐┌─┴─┐  │    │                                    │                                            \n",
       "q_2: ┤ H ├┤ P(2.0*x[2]) ├──────────────────────────────────────────┤ X ├┤ P(2.0*(π - x[0])*(π - x[2])) ├┤ X ├┤ X ├──┼──┤ P(2.0*(π - x[1])*(π - x[2])) ├┤ X ├──┼────┼────────────────────────────────────┼────■────────────────────────────────────■──\n",
       "     ├───┤├─────────────┤                                          └───┘└──────────────────────────────┘└───┘└───┘┌─┴─┐├──────────────────────────────┤└───┘┌─┴─┐┌─┴─┐┌──────────────────────────────┐┌─┴─┐┌─┴─┐┌──────────────────────────────┐┌─┴─┐\n",
       "q_3: ┤ H ├┤ P(2.0*x[3]) ├─────────────────────────────────────────────────────────────────────────────────────────┤ X ├┤ P(2.0*(π - x[0])*(π - x[3])) ├─────┤ X ├┤ X ├┤ P(2.0*(π - x[1])*(π - x[3])) ├┤ X ├┤ X ├┤ P(2.0*(π - x[2])*(π - x[3])) ├┤ X ├\n",
       "     └───┘└─────────────┘                                                                                         └───┘└──────────────────────────────┘     └───┘└───┘└──────────────────────────────┘└───┘└───┘└──────────────────────────────┘└───┘</pre>"
      ],
      "text/plain": [
       "     ┌───┐┌─────────────┐                                                                                                                                                                                                                            \n",
       "q_0: ┤ H ├┤ P(2.0*x[0]) ├──■────────────────────────────────────■────■────────────────────────────────────■─────────■─────────────────────────────────────────■──────────────────────────────────────────────────────────────────────────────────────\n",
       "     ├───┤├─────────────┤┌─┴─┐┌──────────────────────────────┐┌─┴─┐  │                                    │         │                                         │                                                                                      \n",
       "q_1: ┤ H ├┤ P(2.0*x[1]) ├┤ X ├┤ P(2.0*(π - x[0])*(π - x[1])) ├┤ X ├──┼────────────────────────────────────┼────■────┼────────────────────────────────────■────┼────■────────────────────────────────────■────────────────────────────────────────────\n",
       "     ├───┤├─────────────┤└───┘└──────────────────────────────┘└───┘┌─┴─┐┌──────────────────────────────┐┌─┴─┐┌─┴─┐  │  ┌──────────────────────────────┐┌─┴─┐  │    │                                    │                                            \n",
       "q_2: ┤ H ├┤ P(2.0*x[2]) ├──────────────────────────────────────────┤ X ├┤ P(2.0*(π - x[0])*(π - x[2])) ├┤ X ├┤ X ├──┼──┤ P(2.0*(π - x[1])*(π - x[2])) ├┤ X ├──┼────┼────────────────────────────────────┼────■────────────────────────────────────■──\n",
       "     ├───┤├─────────────┤                                          └───┘└──────────────────────────────┘└───┘└───┘┌─┴─┐├──────────────────────────────┤└───┘┌─┴─┐┌─┴─┐┌──────────────────────────────┐┌─┴─┐┌─┴─┐┌──────────────────────────────┐┌─┴─┐\n",
       "q_3: ┤ H ├┤ P(2.0*x[3]) ├─────────────────────────────────────────────────────────────────────────────────────────┤ X ├┤ P(2.0*(π - x[0])*(π - x[3])) ├─────┤ X ├┤ X ├┤ P(2.0*(π - x[1])*(π - x[3])) ├┤ X ├┤ X ├┤ P(2.0*(π - x[2])*(π - x[3])) ├┤ X ├\n",
       "     └───┘└─────────────┘                                                                                         └───┘└──────────────────────────────┘     └───┘└───┘└──────────────────────────────┘└───┘└───┘└──────────────────────────────┘└───┘"
      ]
     },
     "execution_count": 134,
     "metadata": {},
     "output_type": "execute_result"
    }
   ],
   "source": [
    "# features circuit\n",
    "from qiskit.circuit.library import ZZFeatureMap\n",
    "num_features = X.shape[1]\n",
    "feature_circ = ZZFeatureMap(feature_dimension=num_features, reps=1)\n",
    "feature_circ.decompose().draw(output='text', fold=-1)"
   ]
  },
  {
   "cell_type": "code",
   "execution_count": 135,
   "id": "6383e3e6-96d9-4fb3-91f8-cde586af1e81",
   "metadata": {},
   "outputs": [
    {
     "data": {
      "text/html": [
       "<pre style=\"word-wrap: normal;white-space: pre;background: #fff0;line-height: 1.1;font-family: &quot;Courier New&quot;,Courier,monospace\">     ┌──────────┐┌──────────┐     ┌──────────┐┌───────────┐                          \n",
       "q_0: ┤ Ry(θ[0]) ├┤ Rz(θ[4]) ├──■──┤ Ry(θ[8]) ├┤ Rz(θ[12]) ├──────────────────────────\n",
       "     ├──────────┤├──────────┤┌─┴─┐└──────────┘└┬──────────┤┌───────────┐             \n",
       "q_1: ┤ Ry(θ[1]) ├┤ Rz(θ[5]) ├┤ X ├─────■───────┤ Ry(θ[9]) ├┤ Rz(θ[13]) ├─────────────\n",
       "     ├──────────┤├──────────┤└───┘   ┌─┴─┐     └──────────┘├───────────┤┌───────────┐\n",
       "q_2: ┤ Ry(θ[2]) ├┤ Rz(θ[6]) ├────────┤ X ├──────────■──────┤ Ry(θ[10]) ├┤ Rz(θ[14]) ├\n",
       "     ├──────────┤├──────────┤        └───┘        ┌─┴─┐    ├───────────┤├───────────┤\n",
       "q_3: ┤ Ry(θ[3]) ├┤ Rz(θ[7]) ├─────────────────────┤ X ├────┤ Ry(θ[11]) ├┤ Rz(θ[15]) ├\n",
       "     └──────────┘└──────────┘                     └───┘    └───────────┘└───────────┘</pre>"
      ],
      "text/plain": [
       "     ┌──────────┐┌──────────┐     ┌──────────┐┌───────────┐                          \n",
       "q_0: ┤ Ry(θ[0]) ├┤ Rz(θ[4]) ├──■──┤ Ry(θ[8]) ├┤ Rz(θ[12]) ├──────────────────────────\n",
       "     ├──────────┤├──────────┤┌─┴─┐└──────────┘└┬──────────┤┌───────────┐             \n",
       "q_1: ┤ Ry(θ[1]) ├┤ Rz(θ[5]) ├┤ X ├─────■───────┤ Ry(θ[9]) ├┤ Rz(θ[13]) ├─────────────\n",
       "     ├──────────┤├──────────┤└───┘   ┌─┴─┐     └──────────┘├───────────┤┌───────────┐\n",
       "q_2: ┤ Ry(θ[2]) ├┤ Rz(θ[6]) ├────────┤ X ├──────────■──────┤ Ry(θ[10]) ├┤ Rz(θ[14]) ├\n",
       "     ├──────────┤├──────────┤        └───┘        ┌─┴─┐    ├───────────┤├───────────┤\n",
       "q_3: ┤ Ry(θ[3]) ├┤ Rz(θ[7]) ├─────────────────────┤ X ├────┤ Ry(θ[11]) ├┤ Rz(θ[15]) ├\n",
       "     └──────────┘└──────────┘                     └───┘    └───────────┘└───────────┘"
      ]
     },
     "execution_count": 135,
     "metadata": {},
     "output_type": "execute_result"
    }
   ],
   "source": [
    "# Anzatz circuit\n",
    "# This circuit has 16 parameters named θ[0], ..., θ[15]. These are the trainable weights of the classifier.\n",
    "from qiskit.circuit.library import EfficientSU2\n",
    "nReps=1\n",
    "ansatz_circ=EfficientSU2(num_qubits=num_features, reps=nReps, entanglement='linear')\n",
    "ansatz_circ.decompose().draw(output='text', fold=-1)"
   ]
  },
  {
   "cell_type": "code",
   "execution_count": 136,
   "id": "46066e5b-7667-469f-a754-6803e7c52069",
   "metadata": {},
   "outputs": [],
   "source": [
    "from matplotlib import pyplot as plt\n",
    "from IPython.display import clear_output\n",
    "import time\n",
    "\n",
    "loss_hist = []\n",
    "plt.rcParams[\"figure.figsize\"] = (12, 6)\n",
    "\n",
    "def callback_graph(weights, loss):\n",
    "    clear_output(wait=True)\n",
    "    loss_hist.append(loss)\n",
    "    nIter=len(loss_hist)\n",
    "    if nIter==1:\n",
    "        plt.tstart=time.time()\n",
    "        txt='iter=1'\n",
    "    else:\n",
    "        elaT = (time.time() - plt.tstart)/60.\n",
    "        speed=60*(nIter)/elaT # I missed 0-th iteration\n",
    "        txt='iteration:%d  elaT=%.1f (min), speed %.1f iter/h,  x-entropy=%.2f'%(nIter,elaT,speed,loss)\n",
    "    print('done:',txt)\n",
    "\n",
    "    plt.title(\"Objective function, \"+txt)\n",
    "    plt.xlabel(\"Iteration\")\n",
    "    plt.ylabel(\"Corssentropy\")\n",
    "    plt.plot(range(len(loss_hist)), loss_hist)\n",
    "    plt.grid(color='b', linestyle='--', linewidth=0.5)\n",
    "    plt.show()"
   ]
  },
  {
   "cell_type": "markdown",
   "id": "ccef1cd8-64cb-407a-a9ea-7eab7cb60752",
   "metadata": {},
   "source": [
    "### Training of Qiskit NeuralNetworkClassifier "
   ]
  },
  {
   "cell_type": "code",
   "execution_count": 137,
   "id": "865a672c-c054-46f7-ad2c-a6674be7be85",
   "metadata": {},
   "outputs": [],
   "source": [
    "if 1:  # backend = density matrix simulator\n",
    "    from qiskit_ibm_runtime import QiskitRuntimeService, Sampler, Options, Session\n",
    "    #load the service\n",
    "    service = QiskitRuntimeService(channel = 'ibm_quantum')\n",
    "    backend = service.get_backend('ibmq_qasm_simulator') # change this for a real execution\n",
    "    # create the program for samplig results on a backend\n",
    "    options = Options()\n",
    "    options.resilience_level = 0  # no need to post-process for ideal backend\n",
    "    options.execution.shots =1000\n",
    "    session = Session(backend=backend)\n",
    "    sampler = Sampler(session=session, options=options)\n",
    "    #sampler = Sampler(backend, options) #if you do not want to use sessions\n",
    "else:  # backend= state vector \n",
    "    assert sum(sum(lst) for lst in midMeasLL) ==0  # it can't handle mid-circui measurements\n",
    "    from qiskit.primitives import Sampler  # state vector\n",
    "    sampler = Sampler()\n",
    "\n",
    "# To make the training process faster, we choose a gradient-free optimizer.\n",
    "from qiskit.algorithms.optimizers import COBYLA\n",
    "nIter=17\n",
    "optimizer = COBYLA(maxiter=nIter)"
   ]
  },
  {
   "cell_type": "code",
   "execution_count": 138,
   "id": "38f3f2c0-d91b-4d05-aca2-6707001856e0",
   "metadata": {},
   "outputs": [
    {
     "data": {
      "text/html": [
       "<pre style=\"word-wrap: normal;white-space: pre;background: #fff0;line-height: 1.1;font-family: &quot;Courier New&quot;,Courier,monospace\">     ┌────────────────────────────────────┐┌──────────────────────────────────────────────────────────────────────────────────────────────────────┐\n",
       "q_0: ┤0                                   ├┤0                                                                                                     ├\n",
       "     │                                    ││                                                                                                      │\n",
       "q_1: ┤1                                   ├┤1                                                                                                     ├\n",
       "     │  ZZFeatureMap(x[0],x[1],x[2],x[3]) ││  EfficientSU2(θ[0],θ[1],θ[2],θ[3],θ[4],θ[5],θ[6],θ[7],θ[8],θ[9],θ[10],θ[11],θ[12],θ[13],θ[14],θ[15]) │\n",
       "q_2: ┤2                                   ├┤2                                                                                                     ├\n",
       "     │                                    ││                                                                                                      │\n",
       "q_3: ┤3                                   ├┤3                                                                                                     ├\n",
       "     └────────────────────────────────────┘└──────────────────────────────────────────────────────────────────────────────────────────────────────┘</pre>"
      ],
      "text/plain": [
       "     ┌────────────────────────────────────┐┌──────────────────────────────────────────────────────────────────────────────────────────────────────┐\n",
       "q_0: ┤0                                   ├┤0                                                                                                     ├\n",
       "     │                                    ││                                                                                                      │\n",
       "q_1: ┤1                                   ├┤1                                                                                                     ├\n",
       "     │  ZZFeatureMap(x[0],x[1],x[2],x[3]) ││  EfficientSU2(θ[0],θ[1],θ[2],θ[3],θ[4],θ[5],θ[6],θ[7],θ[8],θ[9],θ[10],θ[11],θ[12],θ[13],θ[14],θ[15]) │\n",
       "q_2: ┤2                                   ├┤2                                                                                                     ├\n",
       "     │                                    ││                                                                                                      │\n",
       "q_3: ┤3                                   ├┤3                                                                                                     ├\n",
       "     └────────────────────────────────────┘└──────────────────────────────────────────────────────────────────────────────────────────────────────┘"
      ]
     },
     "execution_count": 138,
     "metadata": {},
     "output_type": "execute_result"
    }
   ],
   "source": [
    "# construct quantum circuit  (only for inspection)\n",
    "from qiskit import QuantumCircuit\n",
    "num_cregs = len(ansatz_circ.clbits) # number of classical registers in the ansatz\n",
    "circuit = QuantumCircuit(num_features,num_cregs)\n",
    "circuit.append(feature_circ, range(num_features))\n",
    "circuit.append(ansatz_circ, range(num_features),range(num_cregs))\n",
    "circuit.decompose().draw(output=\"text\", fold=-1)"
   ]
  },
  {
   "cell_type": "markdown",
   "id": "db05ebc4-48ca-42fa-b613-b8118c3edc9e",
   "metadata": {},
   "source": [
    "### SamplerQNN"
   ]
  },
  {
   "cell_type": "code",
   "execution_count": 139,
   "id": "05bec2be-2edb-4baa-a8c2-3d095dcf5452",
   "metadata": {},
   "outputs": [],
   "source": [
    "def recoLabel(mval):  # mval=int(bistrings)\n",
    "    if 1: x=mval%3 # --> 0,1,2\n",
    "    if 0:\n",
    "        mbits = bin(mval)[2:]\n",
    "        hw=mbits.count('1')\n",
    "        x=hw%3\n",
    "    return x\n",
    "numLabels = 3  # corresponds to the number of classes, must cover all  possible outcomes of recoLabel(.)"
   ]
  },
  {
   "cell_type": "code",
   "execution_count": 140,
   "id": "392d4ffe-f048-414e-aea1-611b567e413e",
   "metadata": {},
   "outputs": [],
   "source": [
    "# construct QNN\n",
    "# see https://github.com/qiskit-community/qiskit-machine-learning/blob/main/docs/tutorials/01_neural_networks.ipynb\n",
    "from qiskit_machine_learning.algorithms.classifiers import NeuralNetworkClassifier\n",
    "from qiskit_machine_learning.neural_networks import SamplerQNN\n",
    "\n",
    "# SamplerQNN directly consumes samples from measuring the quantum circuit, it does not require a custom observable.\n",
    "sampler_qnn = SamplerQNN(\n",
    "    circuit=circuit.decompose(), #we decompose the circuit because samplerqnn will check if the measurements are present in the circuit\n",
    "    input_params=feature_circ.parameters,\n",
    "    weight_params=ansatz_circ.parameters,\n",
    "    interpret=recoLabel, # interpret  bitstrings.\n",
    "    output_shape=numLabels, # must match to interpreter\n",
    "    sampler=sampler\n",
    ")\n",
    "'''These output samples are interpreted by default as the probabilities of measuring the integer index c\n",
    "orresponding to a bitstring. However, the SamplerQNN also allows us to specify an interpret function \n",
    "to post-process the samples. This function should be defined so that it takes a measured integer \n",
    "(from a bitstring) and maps it to a new value, i.e. non-negative integer.\n",
    "'''\n",
    "\n",
    "# construct classifier\n",
    "model = NeuralNetworkClassifier(\n",
    "    neural_network=sampler_qnn, optimizer=optimizer, callback=callback_graph, loss='cross_entropy'\n",
    ")"
   ]
  },
  {
   "cell_type": "code",
   "execution_count": 141,
   "id": "16124d5a-b920-4d0b-841c-6eb6ba137dfd",
   "metadata": {},
   "outputs": [
    {
     "name": "stderr",
     "output_type": "stream",
     "text": [
      "capi_return is NULL\n",
      "Call-back cb_calcfc_in__cobyla__user__routines failed.\n"
     ]
    },
    {
     "ename": "ValueError",
     "evalue": "matmul: Input operand 1 has a mismatch in its core dimension 0, with gufunc signature (n?,k),(k,m?)->(n?,m?) (size 1 is different from 120)",
     "output_type": "error",
     "traceback": [
      "\u001b[0;31m---------------------------------------------------------------------------\u001b[0m",
      "\u001b[0;31mValueError\u001b[0m                                Traceback (most recent call last)",
      "Cell \u001b[0;32mIn[141], line 7\u001b[0m\n\u001b[1;32m      5\u001b[0m start \u001b[38;5;241m=\u001b[39m time\u001b[38;5;241m.\u001b[39mtime()\n\u001b[1;32m      6\u001b[0m \u001b[38;5;66;03m# fit classifier to data\u001b[39;00m\n\u001b[0;32m----> 7\u001b[0m \u001b[43mmodel\u001b[49m\u001b[38;5;241;43m.\u001b[39;49m\u001b[43mfit\u001b[49m\u001b[43m(\u001b[49m\u001b[43mX_train\u001b[49m\u001b[43m,\u001b[49m\u001b[43m \u001b[49m\u001b[43my_train\u001b[49m\u001b[43m)\u001b[49m\n\u001b[1;32m      8\u001b[0m elapsed \u001b[38;5;241m=\u001b[39m time\u001b[38;5;241m.\u001b[39mtime() \u001b[38;5;241m-\u001b[39m start\n\u001b[1;32m      9\u001b[0m \u001b[38;5;28mprint\u001b[39m(\u001b[38;5;124mf\u001b[39m\u001b[38;5;124m\"\u001b[39m\u001b[38;5;124mTraining time: \u001b[39m\u001b[38;5;132;01m{\u001b[39;00m\u001b[38;5;28mround\u001b[39m(elapsed)\u001b[38;5;132;01m}\u001b[39;00m\u001b[38;5;124m seconds, last value:%.2f\u001b[39m\u001b[38;5;124m\"\u001b[39m\u001b[38;5;241m%\u001b[39mloss_hist[\u001b[38;5;241m-\u001b[39m\u001b[38;5;241m1\u001b[39m])\n",
      "File \u001b[0;32m/usr/local/lib/python3.10/dist-packages/qiskit_machine_learning/algorithms/trainable_model.py:199\u001b[0m, in \u001b[0;36mTrainableModel.fit\u001b[0;34m(self, X, y)\u001b[0m\n\u001b[1;32m    196\u001b[0m \u001b[38;5;28;01mif\u001b[39;00m \u001b[38;5;129;01mnot\u001b[39;00m \u001b[38;5;28mself\u001b[39m\u001b[38;5;241m.\u001b[39m_warm_start:\n\u001b[1;32m    197\u001b[0m     \u001b[38;5;28mself\u001b[39m\u001b[38;5;241m.\u001b[39m_fit_result \u001b[38;5;241m=\u001b[39m \u001b[38;5;28;01mNone\u001b[39;00m\n\u001b[0;32m--> 199\u001b[0m \u001b[38;5;28mself\u001b[39m\u001b[38;5;241m.\u001b[39m_fit_result \u001b[38;5;241m=\u001b[39m \u001b[38;5;28;43mself\u001b[39;49m\u001b[38;5;241;43m.\u001b[39;49m\u001b[43m_fit_internal\u001b[49m\u001b[43m(\u001b[49m\u001b[43mX\u001b[49m\u001b[43m,\u001b[49m\u001b[43m \u001b[49m\u001b[43my\u001b[49m\u001b[43m)\u001b[49m\n\u001b[1;32m    200\u001b[0m \u001b[38;5;28;01mreturn\u001b[39;00m \u001b[38;5;28mself\u001b[39m\n",
      "File \u001b[0;32m/usr/local/lib/python3.10/dist-packages/qiskit_machine_learning/algorithms/classifiers/neural_network_classifier.py:115\u001b[0m, in \u001b[0;36mNeuralNetworkClassifier._fit_internal\u001b[0;34m(self, X, y)\u001b[0m\n\u001b[1;32m    112\u001b[0m X, y \u001b[38;5;241m=\u001b[39m \u001b[38;5;28mself\u001b[39m\u001b[38;5;241m.\u001b[39m_validate_input(X, y)\n\u001b[1;32m    114\u001b[0m function \u001b[38;5;241m=\u001b[39m \u001b[38;5;28mself\u001b[39m\u001b[38;5;241m.\u001b[39m_create_objective(X, y)\n\u001b[0;32m--> 115\u001b[0m \u001b[38;5;28;01mreturn\u001b[39;00m \u001b[38;5;28;43mself\u001b[39;49m\u001b[38;5;241;43m.\u001b[39;49m\u001b[43m_minimize\u001b[49m\u001b[43m(\u001b[49m\u001b[43mfunction\u001b[49m\u001b[43m)\u001b[49m\n",
      "File \u001b[0;32m/usr/local/lib/python3.10/dist-packages/qiskit_machine_learning/algorithms/trainable_model.py:295\u001b[0m, in \u001b[0;36mTrainableModel._minimize\u001b[0;34m(self, function)\u001b[0m\n\u001b[1;32m    291\u001b[0m     optimizer_result \u001b[38;5;241m=\u001b[39m \u001b[38;5;28mself\u001b[39m\u001b[38;5;241m.\u001b[39m_optimizer(\n\u001b[1;32m    292\u001b[0m         fun\u001b[38;5;241m=\u001b[39mobjective, x0\u001b[38;5;241m=\u001b[39minitial_point, jac\u001b[38;5;241m=\u001b[39mfunction\u001b[38;5;241m.\u001b[39mgradient\n\u001b[1;32m    293\u001b[0m     )\n\u001b[1;32m    294\u001b[0m \u001b[38;5;28;01melse\u001b[39;00m:\n\u001b[0;32m--> 295\u001b[0m     optimizer_result \u001b[38;5;241m=\u001b[39m \u001b[38;5;28;43mself\u001b[39;49m\u001b[38;5;241;43m.\u001b[39;49m\u001b[43m_optimizer\u001b[49m\u001b[38;5;241;43m.\u001b[39;49m\u001b[43mminimize\u001b[49m\u001b[43m(\u001b[49m\n\u001b[1;32m    296\u001b[0m \u001b[43m        \u001b[49m\u001b[43mfun\u001b[49m\u001b[38;5;241;43m=\u001b[39;49m\u001b[43mobjective\u001b[49m\u001b[43m,\u001b[49m\n\u001b[1;32m    297\u001b[0m \u001b[43m        \u001b[49m\u001b[43mx0\u001b[49m\u001b[38;5;241;43m=\u001b[39;49m\u001b[43minitial_point\u001b[49m\u001b[43m,\u001b[49m\n\u001b[1;32m    298\u001b[0m \u001b[43m        \u001b[49m\u001b[43mjac\u001b[49m\u001b[38;5;241;43m=\u001b[39;49m\u001b[43mfunction\u001b[49m\u001b[38;5;241;43m.\u001b[39;49m\u001b[43mgradient\u001b[49m\u001b[43m,\u001b[49m\n\u001b[1;32m    299\u001b[0m \u001b[43m    \u001b[49m\u001b[43m)\u001b[49m\n\u001b[1;32m    300\u001b[0m \u001b[38;5;28;01mreturn\u001b[39;00m optimizer_result\n",
      "File \u001b[0;32m/usr/local/lib/python3.10/dist-packages/qiskit/algorithms/optimizers/scipy_optimizer.py:154\u001b[0m, in \u001b[0;36mSciPyOptimizer.minimize\u001b[0;34m(self, fun, x0, jac, bounds)\u001b[0m\n\u001b[1;32m    151\u001b[0m     swapped_deprecated_args \u001b[38;5;241m=\u001b[39m \u001b[38;5;28;01mTrue\u001b[39;00m\n\u001b[1;32m    152\u001b[0m     \u001b[38;5;28mself\u001b[39m\u001b[38;5;241m.\u001b[39m_options[\u001b[38;5;124m\"\u001b[39m\u001b[38;5;124mmaxfun\u001b[39m\u001b[38;5;124m\"\u001b[39m] \u001b[38;5;241m=\u001b[39m \u001b[38;5;28mself\u001b[39m\u001b[38;5;241m.\u001b[39m_options\u001b[38;5;241m.\u001b[39mpop(\u001b[38;5;124m\"\u001b[39m\u001b[38;5;124mmaxiter\u001b[39m\u001b[38;5;124m\"\u001b[39m)\n\u001b[0;32m--> 154\u001b[0m raw_result \u001b[38;5;241m=\u001b[39m \u001b[43mminimize\u001b[49m\u001b[43m(\u001b[49m\n\u001b[1;32m    155\u001b[0m \u001b[43m    \u001b[49m\u001b[43mfun\u001b[49m\u001b[38;5;241;43m=\u001b[39;49m\u001b[43mfun\u001b[49m\u001b[43m,\u001b[49m\n\u001b[1;32m    156\u001b[0m \u001b[43m    \u001b[49m\u001b[43mx0\u001b[49m\u001b[38;5;241;43m=\u001b[39;49m\u001b[43mx0\u001b[49m\u001b[43m,\u001b[49m\n\u001b[1;32m    157\u001b[0m \u001b[43m    \u001b[49m\u001b[43mmethod\u001b[49m\u001b[38;5;241;43m=\u001b[39;49m\u001b[38;5;28;43mself\u001b[39;49m\u001b[38;5;241;43m.\u001b[39;49m\u001b[43m_method\u001b[49m\u001b[43m,\u001b[49m\n\u001b[1;32m    158\u001b[0m \u001b[43m    \u001b[49m\u001b[43mjac\u001b[49m\u001b[38;5;241;43m=\u001b[39;49m\u001b[43mjac\u001b[49m\u001b[43m,\u001b[49m\n\u001b[1;32m    159\u001b[0m \u001b[43m    \u001b[49m\u001b[43mbounds\u001b[49m\u001b[38;5;241;43m=\u001b[39;49m\u001b[43mbounds\u001b[49m\u001b[43m,\u001b[49m\n\u001b[1;32m    160\u001b[0m \u001b[43m    \u001b[49m\u001b[43moptions\u001b[49m\u001b[38;5;241;43m=\u001b[39;49m\u001b[38;5;28;43mself\u001b[39;49m\u001b[38;5;241;43m.\u001b[39;49m\u001b[43m_options\u001b[49m\u001b[43m,\u001b[49m\n\u001b[1;32m    161\u001b[0m \u001b[43m    \u001b[49m\u001b[38;5;241;43m*\u001b[39;49m\u001b[38;5;241;43m*\u001b[39;49m\u001b[38;5;28;43mself\u001b[39;49m\u001b[38;5;241;43m.\u001b[39;49m\u001b[43m_kwargs\u001b[49m\u001b[43m,\u001b[49m\n\u001b[1;32m    162\u001b[0m \u001b[43m\u001b[49m\u001b[43m)\u001b[49m\n\u001b[1;32m    163\u001b[0m \u001b[38;5;28;01mif\u001b[39;00m swapped_deprecated_args:\n\u001b[1;32m    164\u001b[0m     \u001b[38;5;28mself\u001b[39m\u001b[38;5;241m.\u001b[39m_options[\u001b[38;5;124m\"\u001b[39m\u001b[38;5;124mmaxiter\u001b[39m\u001b[38;5;124m\"\u001b[39m] \u001b[38;5;241m=\u001b[39m \u001b[38;5;28mself\u001b[39m\u001b[38;5;241m.\u001b[39m_options\u001b[38;5;241m.\u001b[39mpop(\u001b[38;5;124m\"\u001b[39m\u001b[38;5;124mmaxfun\u001b[39m\u001b[38;5;124m\"\u001b[39m)\n",
      "File \u001b[0;32m/usr/lib/python3/dist-packages/scipy/optimize/_minimize.py:687\u001b[0m, in \u001b[0;36mminimize\u001b[0;34m(fun, x0, args, method, jac, hess, hessp, bounds, constraints, tol, callback, options)\u001b[0m\n\u001b[1;32m    684\u001b[0m     res \u001b[38;5;241m=\u001b[39m _minimize_tnc(fun, x0, args, jac, bounds, callback\u001b[38;5;241m=\u001b[39mcallback,\n\u001b[1;32m    685\u001b[0m                         \u001b[38;5;241m*\u001b[39m\u001b[38;5;241m*\u001b[39moptions)\n\u001b[1;32m    686\u001b[0m \u001b[38;5;28;01melif\u001b[39;00m meth \u001b[38;5;241m==\u001b[39m \u001b[38;5;124m'\u001b[39m\u001b[38;5;124mcobyla\u001b[39m\u001b[38;5;124m'\u001b[39m:\n\u001b[0;32m--> 687\u001b[0m     res \u001b[38;5;241m=\u001b[39m \u001b[43m_minimize_cobyla\u001b[49m\u001b[43m(\u001b[49m\u001b[43mfun\u001b[49m\u001b[43m,\u001b[49m\u001b[43m \u001b[49m\u001b[43mx0\u001b[49m\u001b[43m,\u001b[49m\u001b[43m \u001b[49m\u001b[43margs\u001b[49m\u001b[43m,\u001b[49m\u001b[43m \u001b[49m\u001b[43mconstraints\u001b[49m\u001b[43m,\u001b[49m\u001b[43m \u001b[49m\u001b[43mcallback\u001b[49m\u001b[38;5;241;43m=\u001b[39;49m\u001b[43mcallback\u001b[49m\u001b[43m,\u001b[49m\n\u001b[1;32m    688\u001b[0m \u001b[43m                            \u001b[49m\u001b[38;5;241;43m*\u001b[39;49m\u001b[38;5;241;43m*\u001b[39;49m\u001b[43moptions\u001b[49m\u001b[43m)\u001b[49m\n\u001b[1;32m    689\u001b[0m \u001b[38;5;28;01melif\u001b[39;00m meth \u001b[38;5;241m==\u001b[39m \u001b[38;5;124m'\u001b[39m\u001b[38;5;124mslsqp\u001b[39m\u001b[38;5;124m'\u001b[39m:\n\u001b[1;32m    690\u001b[0m     res \u001b[38;5;241m=\u001b[39m _minimize_slsqp(fun, x0, args, jac, bounds,\n\u001b[1;32m    691\u001b[0m                           constraints, callback\u001b[38;5;241m=\u001b[39mcallback, \u001b[38;5;241m*\u001b[39m\u001b[38;5;241m*\u001b[39moptions)\n",
      "File \u001b[0;32m/usr/lib/python3/dist-packages/scipy/optimize/_cobyla_py.py:34\u001b[0m, in \u001b[0;36msynchronized.<locals>.wrapper\u001b[0;34m(*args, **kwargs)\u001b[0m\n\u001b[1;32m     31\u001b[0m \u001b[38;5;129m@functools\u001b[39m\u001b[38;5;241m.\u001b[39mwraps(func)\n\u001b[1;32m     32\u001b[0m \u001b[38;5;28;01mdef\u001b[39;00m \u001b[38;5;21mwrapper\u001b[39m(\u001b[38;5;241m*\u001b[39margs, \u001b[38;5;241m*\u001b[39m\u001b[38;5;241m*\u001b[39mkwargs):\n\u001b[1;32m     33\u001b[0m     \u001b[38;5;28;01mwith\u001b[39;00m _module_lock:\n\u001b[0;32m---> 34\u001b[0m         \u001b[38;5;28;01mreturn\u001b[39;00m \u001b[43mfunc\u001b[49m\u001b[43m(\u001b[49m\u001b[38;5;241;43m*\u001b[39;49m\u001b[43margs\u001b[49m\u001b[43m,\u001b[49m\u001b[43m \u001b[49m\u001b[38;5;241;43m*\u001b[39;49m\u001b[38;5;241;43m*\u001b[39;49m\u001b[43mkwargs\u001b[49m\u001b[43m)\u001b[49m\n",
      "File \u001b[0;32m/usr/lib/python3/dist-packages/scipy/optimize/_cobyla_py.py:273\u001b[0m, in \u001b[0;36m_minimize_cobyla\u001b[0;34m(fun, x0, args, constraints, rhobeg, tol, maxiter, disp, catol, callback, **unknown_options)\u001b[0m\n\u001b[1;32m    270\u001b[0m         callback(np\u001b[38;5;241m.\u001b[39mcopy(x))\n\u001b[1;32m    272\u001b[0m info \u001b[38;5;241m=\u001b[39m np\u001b[38;5;241m.\u001b[39mzeros(\u001b[38;5;241m4\u001b[39m, np\u001b[38;5;241m.\u001b[39mfloat64)\n\u001b[0;32m--> 273\u001b[0m xopt, info \u001b[38;5;241m=\u001b[39m \u001b[43mcobyla\u001b[49m\u001b[38;5;241;43m.\u001b[39;49m\u001b[43mminimize\u001b[49m\u001b[43m(\u001b[49m\u001b[43mcalcfc\u001b[49m\u001b[43m,\u001b[49m\u001b[43m \u001b[49m\u001b[43mm\u001b[49m\u001b[38;5;241;43m=\u001b[39;49m\u001b[43mm\u001b[49m\u001b[43m,\u001b[49m\u001b[43m \u001b[49m\u001b[43mx\u001b[49m\u001b[38;5;241;43m=\u001b[39;49m\u001b[43mnp\u001b[49m\u001b[38;5;241;43m.\u001b[39;49m\u001b[43mcopy\u001b[49m\u001b[43m(\u001b[49m\u001b[43mx0\u001b[49m\u001b[43m)\u001b[49m\u001b[43m,\u001b[49m\u001b[43m \u001b[49m\u001b[43mrhobeg\u001b[49m\u001b[38;5;241;43m=\u001b[39;49m\u001b[43mrhobeg\u001b[49m\u001b[43m,\u001b[49m\n\u001b[1;32m    274\u001b[0m \u001b[43m                              \u001b[49m\u001b[43mrhoend\u001b[49m\u001b[38;5;241;43m=\u001b[39;49m\u001b[43mrhoend\u001b[49m\u001b[43m,\u001b[49m\u001b[43m \u001b[49m\u001b[43miprint\u001b[49m\u001b[38;5;241;43m=\u001b[39;49m\u001b[43miprint\u001b[49m\u001b[43m,\u001b[49m\u001b[43m \u001b[49m\u001b[43mmaxfun\u001b[49m\u001b[38;5;241;43m=\u001b[39;49m\u001b[43mmaxfun\u001b[49m\u001b[43m,\u001b[49m\n\u001b[1;32m    275\u001b[0m \u001b[43m                              \u001b[49m\u001b[43mdinfo\u001b[49m\u001b[38;5;241;43m=\u001b[39;49m\u001b[43minfo\u001b[49m\u001b[43m,\u001b[49m\u001b[43m \u001b[49m\u001b[43mcallback\u001b[49m\u001b[38;5;241;43m=\u001b[39;49m\u001b[43mwrapped_callback\u001b[49m\u001b[43m)\u001b[49m\n\u001b[1;32m    277\u001b[0m \u001b[38;5;28;01mif\u001b[39;00m info[\u001b[38;5;241m3\u001b[39m] \u001b[38;5;241m>\u001b[39m catol:\n\u001b[1;32m    278\u001b[0m     \u001b[38;5;66;03m# Check constraint violation\u001b[39;00m\n\u001b[1;32m    279\u001b[0m     info[\u001b[38;5;241m0\u001b[39m] \u001b[38;5;241m=\u001b[39m \u001b[38;5;241m4\u001b[39m\n",
      "File \u001b[0;32m/usr/lib/python3/dist-packages/scipy/optimize/_cobyla_py.py:261\u001b[0m, in \u001b[0;36m_minimize_cobyla.<locals>.calcfc\u001b[0;34m(x, con)\u001b[0m\n\u001b[1;32m    260\u001b[0m \u001b[38;5;28;01mdef\u001b[39;00m \u001b[38;5;21mcalcfc\u001b[39m(x, con):\n\u001b[0;32m--> 261\u001b[0m     f \u001b[38;5;241m=\u001b[39m \u001b[43mfun\u001b[49m\u001b[43m(\u001b[49m\u001b[43mnp\u001b[49m\u001b[38;5;241;43m.\u001b[39;49m\u001b[43mcopy\u001b[49m\u001b[43m(\u001b[49m\u001b[43mx\u001b[49m\u001b[43m)\u001b[49m\u001b[43m,\u001b[49m\u001b[43m \u001b[49m\u001b[38;5;241;43m*\u001b[39;49m\u001b[43margs\u001b[49m\u001b[43m)\u001b[49m\n\u001b[1;32m    262\u001b[0m     i \u001b[38;5;241m=\u001b[39m \u001b[38;5;241m0\u001b[39m\n\u001b[1;32m    263\u001b[0m     \u001b[38;5;28;01mfor\u001b[39;00m size, c \u001b[38;5;129;01min\u001b[39;00m izip(cons_lengths, constraints):\n",
      "File \u001b[0;32m/usr/local/lib/python3.10/dist-packages/qiskit_machine_learning/algorithms/trainable_model.py:271\u001b[0m, in \u001b[0;36mTrainableModel._get_objective.<locals>.objective\u001b[0;34m(objective_weights)\u001b[0m\n\u001b[1;32m    270\u001b[0m \u001b[38;5;28;01mdef\u001b[39;00m \u001b[38;5;21mobjective\u001b[39m(objective_weights):\n\u001b[0;32m--> 271\u001b[0m     objective_value \u001b[38;5;241m=\u001b[39m \u001b[43mfunction\u001b[49m\u001b[38;5;241;43m.\u001b[39;49m\u001b[43mobjective\u001b[49m\u001b[43m(\u001b[49m\u001b[43mobjective_weights\u001b[49m\u001b[43m)\u001b[49m\n\u001b[1;32m    272\u001b[0m     \u001b[38;5;28mself\u001b[39m\u001b[38;5;241m.\u001b[39m_callback(objective_weights, objective_value)\n\u001b[1;32m    273\u001b[0m     \u001b[38;5;28;01mreturn\u001b[39;00m objective_value\n",
      "File \u001b[0;32m/usr/local/lib/python3.10/dist-packages/qiskit_machine_learning/algorithms/objective_functions.py:162\u001b[0m, in \u001b[0;36mMultiClassObjectiveFunction.objective\u001b[0;34m(self, weights)\u001b[0m\n\u001b[1;32m    156\u001b[0m num_samples \u001b[38;5;241m=\u001b[39m \u001b[38;5;28mself\u001b[39m\u001b[38;5;241m.\u001b[39m_X\u001b[38;5;241m.\u001b[39mshape[\u001b[38;5;241m0\u001b[39m]\n\u001b[1;32m    157\u001b[0m \u001b[38;5;28;01mfor\u001b[39;00m i \u001b[38;5;129;01min\u001b[39;00m \u001b[38;5;28mrange\u001b[39m(num_outputs):\n\u001b[1;32m    158\u001b[0m     \u001b[38;5;66;03m# for each output we compute a dot product of probabilities of this output and a loss\u001b[39;00m\n\u001b[1;32m    159\u001b[0m     \u001b[38;5;66;03m# vector.\u001b[39;00m\n\u001b[1;32m    160\u001b[0m     \u001b[38;5;66;03m# loss vector is a loss of a particular output value(value of i) versus true labels.\u001b[39;00m\n\u001b[1;32m    161\u001b[0m     \u001b[38;5;66;03m# we do this across all samples.\u001b[39;00m\n\u001b[0;32m--> 162\u001b[0m     val \u001b[38;5;241m+\u001b[39m\u001b[38;5;241m=\u001b[39m \u001b[43mprobs\u001b[49m\u001b[43m[\u001b[49m\u001b[43m:\u001b[49m\u001b[43m,\u001b[49m\u001b[43m \u001b[49m\u001b[43mi\u001b[49m\u001b[43m]\u001b[49m\u001b[43m \u001b[49m\u001b[38;5;241;43m@\u001b[39;49m\u001b[43m \u001b[49m\u001b[38;5;28;43mself\u001b[39;49m\u001b[38;5;241;43m.\u001b[39;49m\u001b[43m_loss\u001b[49m\u001b[43m(\u001b[49m\u001b[43mnp\u001b[49m\u001b[38;5;241;43m.\u001b[39;49m\u001b[43mfull\u001b[49m\u001b[43m(\u001b[49m\u001b[43mnum_samples\u001b[49m\u001b[43m,\u001b[49m\u001b[43m \u001b[49m\u001b[43mi\u001b[49m\u001b[43m)\u001b[49m\u001b[43m,\u001b[49m\u001b[43m \u001b[49m\u001b[38;5;28;43mself\u001b[39;49m\u001b[38;5;241;43m.\u001b[39;49m\u001b[43m_y\u001b[49m\u001b[43m)\u001b[49m\n\u001b[1;32m    163\u001b[0m val \u001b[38;5;241m=\u001b[39m val \u001b[38;5;241m/\u001b[39m \u001b[38;5;28mself\u001b[39m\u001b[38;5;241m.\u001b[39m_num_samples\n\u001b[1;32m    165\u001b[0m \u001b[38;5;28;01mreturn\u001b[39;00m val\n",
      "\u001b[0;31mValueError\u001b[0m: matmul: Input operand 1 has a mismatch in its core dimension 0, with gufunc signature (n?,k),(k,m?)->(n?,m?) (size 1 is different from 120)"
     ]
    }
   ],
   "source": [
    "# create empty array for callback to store evaluations of the objective function\n",
    "# set figsize\n",
    "plt.rcParams[\"figure.figsize\"] = (12, 6)\n",
    "loss_hist = []\n",
    "start = time.time()\n",
    "# fit classifier to data\n",
    "model.fit(X_train, y_train)\n",
    "elapsed = time.time() - start\n",
    "print(f\"Training time: {round(elapsed)} seconds, last value:%.2f\"%loss_hist[-1])\n",
    "\n",
    "#close your session\n",
    "#session.close()"
   ]
  },
  {
   "cell_type": "markdown",
   "id": "b9fb237c-da6e-4790-a2c2-bb0b4ed1f174",
   "metadata": {},
   "source": [
    "### predict for test samples"
   ]
  },
  {
   "cell_type": "code",
   "execution_count": null,
   "id": "dd3470b8-cf3f-4ff8-9548-3e0b8fff2fed",
   "metadata": {},
   "outputs": [],
   "source": [
    "# Predict labels for the test data\n",
    "y_pred =model.predict(X_test)\n",
    "# Compute the confusion matrix\n",
    "from sklearn.metrics import confusion_matrix\n",
    "conf_matrix = confusion_matrix(y_test, y_pred)\n",
    "#print(conf_matrix)\n",
    "print('\\nconfusion matrix, test samples:%d'%(y_pred.shape[0]))\n",
    "for i,rec  in enumerate(conf_matrix):\n",
    "    print('true:%d  reco:%s'%(i,rec))"
   ]
  },
  {
   "cell_type": "code",
   "execution_count": null,
   "id": "008c6efb-4814-4662-b261-061aa88d91eb",
   "metadata": {},
   "outputs": [],
   "source": [
    "# Now we check out how well our classical model performs. \n",
    "# mean accuracy of the classifier\n",
    "train_score_c4 = model.score(X_train, y_train)\n",
    "test_score_c4 = model.score(X_test, y_test)\n",
    "\n",
    "print(f\"mean accuracy  on  training dataset: {train_score_c4:.2f}\")\n",
    "print(f\"mean accuracy on test dataset:     {test_score_c4:.2f}\")"
   ]
  },
  {
   "cell_type": "code",
   "execution_count": null,
   "id": "c553e26d-7e10-4262-80f0-0ba1701b7dd1",
   "metadata": {},
   "outputs": [],
   "source": [
    "# run full circuit for \n",
    "weights=model.weights\n",
    "'weihts:',weights.shape, weights"
   ]
  },
  {
   "cell_type": "code",
   "execution_count": null,
   "id": "d097aba3-2344-4e1b-bd46-4d47dd431d3c",
   "metadata": {},
   "outputs": [],
   "source": [
    "nSamp=20\n",
    "samples=X_test[:nSamp]\n",
    "labels=y_test[:nSamp]\n",
    "pred=model.predict(samples)\n",
    "nok=0\n",
    "for p,t in zip(pred,labels):\n",
    "    print(p,t,p==t)\n",
    "    nok+=p==t\n",
    "print('avr prob=%.2f'%(nok/nSamp))"
   ]
  },
  {
   "cell_type": "code",
   "execution_count": null,
   "id": "15df2ab7-7931-463a-8bd2-33a7569fbfc8",
   "metadata": {},
   "outputs": [],
   "source": [
    "#session.close()"
   ]
  },
  {
   "cell_type": "code",
   "execution_count": null,
   "id": "81395e51-40e3-494e-b98c-adf18fc701fc",
   "metadata": {},
   "outputs": [],
   "source": [
    "model.save(\"qnn_classifier.model\")"
   ]
  },
  {
   "cell_type": "code",
   "execution_count": null,
   "id": "03adec8e-001f-444d-bfac-e46c4cf5f6bc",
   "metadata": {},
   "outputs": [],
   "source": [
    "model2 = NeuralNetworkClassifier.load(\"qnn_classifier.model\")"
   ]
  },
  {
   "cell_type": "code",
   "execution_count": null,
   "id": "852abea2-505b-4a00-a78d-266c2db625e3",
   "metadata": {},
   "outputs": [],
   "source": [
    "options.execution.shots =4000\n",
    "sampler = Sampler(session=session, options=options)\n",
    "model2.warm_start = True\n",
    "model2.neural_network.sampler = sampler\n",
    "model2.optimizer = COBYLA(maxiter=nIter//2)\n",
    "model2.callback=callback_graph"
   ]
  },
  {
   "cell_type": "code",
   "execution_count": null,
   "id": "8ae594d2-d901-4e3d-86e3-bff978f3fdbf",
   "metadata": {},
   "outputs": [],
   "source": [
    "# clear objective value history\n",
    "loss_hist = []\n",
    "\n",
    "start = time.time()\n",
    "# fit classifier to data\n",
    "model2.fit(X_train, y_train)\n",
    "elapsed = time.time() - start\n",
    "print(f\"Training time: {round(elapsed)} seconds, last value:%.2f\"%loss_hist[-1])\n",
    "\n",
    "# return to default figsize\n",
    "plt.rcParams[\"figure.figsize\"] = (6, 4)\n"
   ]
  },
  {
   "cell_type": "code",
   "execution_count": null,
   "id": "7e22a7ce-7f50-444a-91f7-1925d565d063",
   "metadata": {},
   "outputs": [],
   "source": [
    "# Predict labels for the test data\n",
    "y_pred =model2.predict(X_test)\n",
    "# Compute the confusion matrix\n",
    "from sklearn.metrics import confusion_matrix\n",
    "conf_matrix = confusion_matrix(y_test, y_pred)\n",
    "#print(conf_matrix)\n",
    "print('\\nconfusion matrix, test samples:%d'%(y_pred.shape[0]))\n",
    "for i,rec  in enumerate(conf_matrix):\n",
    "    print('true:%d  reco:%s'%(i,rec))"
   ]
  },
  {
   "cell_type": "code",
   "execution_count": null,
   "id": "d1b42d42-2ad1-4afa-a14e-c6e69d62f611",
   "metadata": {},
   "outputs": [],
   "source": []
  }
 ],
 "metadata": {
  "kernelspec": {
   "display_name": "Python 3 (ipykernel)",
   "language": "python",
   "name": "python3"
  },
  "language_info": {
   "codemirror_mode": {
    "name": "ipython",
    "version": 3
   },
   "file_extension": ".py",
   "mimetype": "text/x-python",
   "name": "python",
   "nbconvert_exporter": "python",
   "pygments_lexer": "ipython3",
   "version": "3.10.12"
  }
 },
 "nbformat": 4,
 "nbformat_minor": 5
}
